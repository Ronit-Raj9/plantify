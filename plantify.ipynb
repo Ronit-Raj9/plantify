{
  "cells": [
    {
      "cell_type": "markdown",
      "metadata": {
        "id": "cXlCWzuOHgi4"
      },
      "source": [
        "# New Section"
      ]
    },
    {
      "cell_type": "code",
      "execution_count": 22,
      "metadata": {
        "colab": {
          "base_uri": "https://localhost:8080/"
        },
        "id": "JnPVyXPwHMtT",
        "outputId": "4e1b6bb0-554b-49b3-87f7-41713fe6fbe1"
      },
      "outputs": [
        {
          "output_type": "stream",
          "name": "stdout",
          "text": [
            "Notebook last run (end-to-end): <class 'datetime.datetime'>\n",
            "TensorFlow version: 2.15.0\n"
          ]
        }
      ],
      "source": [
        "import datetime\n",
        "print(f\"Notebook last run (end-to-end): {datetime.datetime }\")\n",
        "# # Load the TensorBoard notebook extension\n",
        "# %load_ext tensorboard\n",
        "import tensorflow as tf\n",
        "import os\n",
        "\n",
        "print(f\"TensorFlow version: {tf.__version__}\")"
      ]
    },
    {
      "cell_type": "code",
      "source": [
        "def walk_through_dir(dir_path):\n",
        "  \"\"\"\n",
        "  Walks through dir_path returning its contents.\n",
        "\n",
        "  Args:\n",
        "    dir_path (str): target directory\n",
        "\n",
        "  Returns:\n",
        "    A print out of:\n",
        "      number of subdiretories in dir_path\n",
        "      number of images (files) in each subdirectory\n",
        "      name of each subdirectory\n",
        "  \"\"\"\n",
        "  for dirpath, dirnames, filenames in os.walk(dir_path):\n",
        "    print(f\"There are {len(dirnames)} directories and {len(filenames)} images in '{dirpath}'.\")"
      ],
      "metadata": {
        "id": "dbeyN5eTjb_l"
      },
      "execution_count": 23,
      "outputs": []
    },
    {
      "cell_type": "code",
      "source": [
        "walk_through_dir(\"/content/plant_dataset.rar\")"
      ],
      "metadata": {
        "id": "N0XyTCPvopku"
      },
      "execution_count": 26,
      "outputs": []
    },
    {
      "cell_type": "markdown",
      "source": [],
      "metadata": {
        "id": "rtJeEsSZyVZw"
      }
    },
    {
      "cell_type": "code",
      "source": [
        "import zipfile\n",
        "\n",
        "def unzip_data(filename, extract_to=\".\"):\n",
        "    \"\"\"\n",
        "    Unzips a file into the specified directory.\n",
        "\n",
        "    Args:\n",
        "        filename (str): The filepath of the ZIP file to be unzipped.\n",
        "        extract_to (str): The directory where the contents will be extracted.\n",
        "                          Defaults to the current directory.\n",
        "    \"\"\"\n",
        "    with zipfile.ZipFile(filename, 'r') as zip_ref:\n",
        "        zip_ref.extractall(extract_to)\n",
        "\n"
      ],
      "metadata": {
        "id": "EqNwQnYKj2Z0"
      },
      "execution_count": 30,
      "outputs": []
    },
    {
      "cell_type": "code",
      "source": [
        "\n",
        "# Example usage:\n",
        "zip_file = \"plant_dataset.zip\"\n",
        "unzip_data(zip_file, \"extracted_data\")  # Extracts to the \"extracted_data\" directory"
      ],
      "metadata": {
        "id": "eTM5HXyU1uYF"
      },
      "execution_count": 32,
      "outputs": []
    },
    {
      "cell_type": "code",
      "execution_count": 33,
      "metadata": {
        "id": "r4SZxcdyHMtU",
        "colab": {
          "base_uri": "https://localhost:8080/"
        },
        "outputId": "58452b4e-e700-4631-ecb3-74a88ad4f627"
      },
      "outputs": [
        {
          "output_type": "stream",
          "name": "stdout",
          "text": [
            "There are 2 directories and 0 images in '/content/extracted_data/plant_dataset'.\n",
            "There are 3 directories and 0 images in '/content/extracted_data/plant_dataset/train'.\n",
            "There are 0 directories and 149 images in '/content/extracted_data/plant_dataset/train/guava'.\n",
            "There are 0 directories and 150 images in '/content/extracted_data/plant_dataset/train/mango'.\n",
            "There are 0 directories and 150 images in '/content/extracted_data/plant_dataset/train/tulsi'.\n",
            "There are 3 directories and 0 images in '/content/extracted_data/plant_dataset/test'.\n",
            "There are 0 directories and 30 images in '/content/extracted_data/plant_dataset/test/guava'.\n",
            "There are 0 directories and 30 images in '/content/extracted_data/plant_dataset/test/mango'.\n",
            "There are 0 directories and 33 images in '/content/extracted_data/plant_dataset/test/tulsi'.\n"
          ]
        }
      ],
      "source": [
        "#from helper_functions import create_tensorboard_callback, plot_loss_curves, unzip_data, walk_through_dir\n",
        "walk_through_dir(\"/content/extracted_data/plant_dataset\")\n",
        "# Create training and test directories\n",
        "train_dir = \"/content/extracted_data/plant_dataset/train\"\n",
        "test_dir = \"/content/extracted_data/plant_dataset/test\""
      ]
    },
    {
      "cell_type": "code",
      "execution_count": 34,
      "metadata": {
        "id": "gdgTvBXCHMtU",
        "colab": {
          "base_uri": "https://localhost:8080/"
        },
        "outputId": "034bbc07-3d2b-450f-a6f1-f23ebd81d02f"
      },
      "outputs": [
        {
          "output_type": "stream",
          "name": "stdout",
          "text": [
            "Found 449 files belonging to 3 classes.\n",
            "Found 93 files belonging to 3 classes.\n",
            "tf.Tensor(\n",
            "[[[[255.       255.       255.      ]\n",
            "   [255.       255.       255.      ]\n",
            "   [255.       255.       255.      ]\n",
            "   ...\n",
            "   [249.74745  249.74745  249.74745 ]\n",
            "   [250.67857  250.67857  250.67857 ]\n",
            "   [250.78572  250.78572  250.78572 ]]\n",
            "\n",
            "  [[255.       255.       255.      ]\n",
            "   [254.93112  254.93112  254.93112 ]\n",
            "   [254.35715  254.35715  254.35715 ]\n",
            "   ...\n",
            "   [247.5357   247.5357   247.5357  ]\n",
            "   [249.18112  249.18112  249.18112 ]\n",
            "   [249.97704  249.97704  249.97704 ]]\n",
            "\n",
            "  [[254.96428  254.96428  254.96428 ]\n",
            "   [253.99234  253.99234  253.99234 ]\n",
            "   [253.76276  253.76276  253.76276 ]\n",
            "   ...\n",
            "   [245.72704  245.72704  245.72704 ]\n",
            "   [247.79337  247.79337  247.79337 ]\n",
            "   [248.96428  248.96428  248.96428 ]]\n",
            "\n",
            "  ...\n",
            "\n",
            "  [[248.75003  246.75003  247.75003 ]\n",
            "   [245.4286   243.6429   244.75003 ]\n",
            "   [242.23982  242.23982  244.23982 ]\n",
            "   ...\n",
            "   [225.08163  223.08163  226.08163 ]\n",
            "   [224.2143   222.2143   225.2143  ]\n",
            "   [224.89542  222.89542  225.89542 ]]\n",
            "\n",
            "  [[247.31122  245.31122  247.02551 ]\n",
            "   [247.64796  245.86224  247.60715 ]\n",
            "   [244.65051  244.65051  246.65051 ]\n",
            "   ...\n",
            "   [225.19133  223.19133  226.19133 ]\n",
            "   [218.36737  216.36737  219.36737 ]\n",
            "   [216.26274  214.26274  217.26274 ]]\n",
            "\n",
            "  [[244.55608  242.55608  245.55608 ]\n",
            "   [247.8699   246.08418  248.97704 ]\n",
            "   [246.60716  246.60716  248.60716 ]\n",
            "   ...\n",
            "   [227.75262  225.75262  228.75262 ]\n",
            "   [219.13023  217.13023  220.13023 ]\n",
            "   [216.97206  214.97206  217.97206 ]]]\n",
            "\n",
            "\n",
            " [[[197.25766  197.25766  197.25766 ]\n",
            "   [198.45154  198.45154  198.45154 ]\n",
            "   [198.2857   198.2857   198.2857  ]\n",
            "   ...\n",
            "   [163.42348  163.42348  153.42348 ]\n",
            "   [161.29338  161.29338  151.29338 ]\n",
            "   [166.16833  166.16833  156.16833 ]]\n",
            "\n",
            "  [[199.33418  199.33418  199.33418 ]\n",
            "   [200.81888  200.81888  200.81888 ]\n",
            "   [202.04337  202.04337  202.04337 ]\n",
            "   ...\n",
            "   [172.81377  172.81377  164.09949 ]\n",
            "   [166.99748  166.99748  158.28319 ]\n",
            "   [162.84186  162.84186  154.12758 ]]\n",
            "\n",
            "  [[199.06888  199.06888  199.06888 ]\n",
            "   [201.1505   201.1505   201.1505  ]\n",
            "   [203.19133  203.19133  203.19133 ]\n",
            "   ...\n",
            "   [167.6301   167.6301   159.6301  ]\n",
            "   [166.40562  166.40562  158.40562 ]\n",
            "   [164.21686  164.21686  156.21686 ]]\n",
            "\n",
            "  ...\n",
            "\n",
            "  [[207.03572  208.03572  203.03572 ]\n",
            "   [208.       209.       204.      ]\n",
            "   [208.16582  209.16582  204.16582 ]\n",
            "   ...\n",
            "   [177.04851  169.04851  167.04851 ]\n",
            "   [174.24239  166.24239  164.24239 ]\n",
            "   [173.03317  165.03317  163.03317 ]]\n",
            "\n",
            "  [[206.65561  207.65561  202.65561 ]\n",
            "   [207.06888  208.06888  203.06888 ]\n",
            "   [207.82143  208.82143  203.82143 ]\n",
            "   ...\n",
            "   [174.57141  166.57141  164.57141 ]\n",
            "   [172.46683  164.46683  162.46683 ]\n",
            "   [169.94131  161.94131  159.94131 ]]\n",
            "\n",
            "  [[206.00766  207.00766  202.00766 ]\n",
            "   [206.29845  207.29845  202.29845 ]\n",
            "   [207.17857  208.17857  203.17857 ]\n",
            "   ...\n",
            "   [169.64279  161.64279  159.64279 ]\n",
            "   [166.26268  158.26268  156.26268 ]\n",
            "   [161.44888  153.44888  151.44888 ]]]\n",
            "\n",
            "\n",
            " [[[122.        92.       104.      ]\n",
            "   [128.        98.       110.      ]\n",
            "   [133.       105.       120.      ]\n",
            "   ...\n",
            "   [175.       101.       114.      ]\n",
            "   [178.       102.       115.      ]\n",
            "   [179.       103.       116.      ]]\n",
            "\n",
            "  [[122.        92.       104.      ]\n",
            "   [128.        98.       110.      ]\n",
            "   [133.       105.       120.      ]\n",
            "   ...\n",
            "   [174.       100.       115.      ]\n",
            "   [176.        99.       115.      ]\n",
            "   [176.        99.       115.      ]]\n",
            "\n",
            "  [[121.        91.       103.      ]\n",
            "   [127.        97.       109.      ]\n",
            "   [132.       104.       119.      ]\n",
            "   ...\n",
            "   [177.       100.       118.      ]\n",
            "   [176.        99.       117.      ]\n",
            "   [176.        99.       117.      ]]\n",
            "\n",
            "  ...\n",
            "\n",
            "  [[ 71.        88.        54.      ]\n",
            "   [ 71.        88.        52.      ]\n",
            "   [ 72.        89.        53.      ]\n",
            "   ...\n",
            "   [ 63.        91.        69.      ]\n",
            "   [ 68.       111.        84.      ]\n",
            "   [ 64.       114.        85.      ]]\n",
            "\n",
            "  [[ 70.        91.        50.      ]\n",
            "   [ 70.        91.        50.      ]\n",
            "   [ 70.        91.        50.      ]\n",
            "   ...\n",
            "   [ 61.        89.        67.      ]\n",
            "   [ 67.       110.        83.      ]\n",
            "   [ 65.       114.        85.      ]]\n",
            "\n",
            "  [[ 67.        88.        45.      ]\n",
            "   [ 66.        87.        44.      ]\n",
            "   [ 65.        87.        41.      ]\n",
            "   ...\n",
            "   [ 59.        87.        65.      ]\n",
            "   [ 69.       109.        83.      ]\n",
            "   [ 66.       115.        86.      ]]]\n",
            "\n",
            "\n",
            " ...\n",
            "\n",
            "\n",
            " [[[106.75002   97.24998  121.49554 ]\n",
            "   [103.95536   99.03571  116.44196 ]\n",
            "   [100.95536  103.56696  110.43304 ]\n",
            "   ...\n",
            "   [ 48.2635    60.2635    20.263502]\n",
            "   [ 45.272266  58.272266  15.272268]\n",
            "   [ 45.495537  56.495537  16.495535]]\n",
            "\n",
            "  [[107.477684  95.99107  120.98215 ]\n",
            "   [103.45982   98.54018  115.94643 ]\n",
            "   [ 99.95536  102.56696  109.43304 ]\n",
            "   ...\n",
            "   [ 52.06252   64.062515  24.598848]\n",
            "   [ 48.05358   60.05358   20.053581]\n",
            "   [ 47.54018   59.54018   19.540178]]\n",
            "\n",
            "  [[107.25456   95.240974 120.23205 ]\n",
            "   [103.22738   97.02679  114.94643 ]\n",
            "   [ 99.43304  102.04464  108.91071 ]\n",
            "   ...\n",
            "   [ 56.61164   70.83981   34.42813 ]\n",
            "   [ 54.11608   66.11608   29.16072 ]\n",
            "   [ 50.        62.        24.      ]]\n",
            "\n",
            "  ...\n",
            "\n",
            "  [[ 83.77225  105.77225   93.77225 ]\n",
            "   [ 77.97321   98.97321   89.97321 ]\n",
            "   [ 75.000015  98.000015  88.000015]\n",
            "   ...\n",
            "   [122.590355 133.08936   44.884533]\n",
            "   [119.05867  126.736885  39.794365]\n",
            "   [123.759026 127.240974  37.008972]]\n",
            "\n",
            "  [[ 81.50447  103.50447   91.50447 ]\n",
            "   [ 77.73643   98.73643   89.73643 ]\n",
            "   [ 74.95536   97.95536   87.95536 ]\n",
            "   ...\n",
            "   [118.54913  132.55807   46.347416]\n",
            "   [117.72339  129.50037   39.276615]\n",
            "   [124.46872  130.21869   38.49121 ]]\n",
            "\n",
            "  [[ 79.00893  102.00893   92.00893 ]\n",
            "   [ 76.94643   99.94643   89.94643 ]\n",
            "   [ 75.04464   97.04464   85.04464 ]\n",
            "   ...\n",
            "   [115.768    129.        57.843563]\n",
            "   [120.433014 132.70093   38.272278]\n",
            "   [122.982056 131.24101   37.49107 ]]]\n",
            "\n",
            "\n",
            " [[[101.       227.        58.      ]\n",
            "   [ 97.       220.        52.      ]\n",
            "   [100.       219.        51.      ]\n",
            "   ...\n",
            "   [ 67.       118.        17.      ]\n",
            "   [ 68.       113.        20.      ]\n",
            "   [ 66.       109.        20.      ]]\n",
            "\n",
            "  [[ 85.       208.        42.      ]\n",
            "   [101.       222.        57.      ]\n",
            "   [107.       226.        59.      ]\n",
            "   ...\n",
            "   [ 59.       109.        10.      ]\n",
            "   [ 67.       111.        22.      ]\n",
            "   [ 72.       114.        30.      ]]\n",
            "\n",
            "  [[ 84.       204.        45.      ]\n",
            "   [ 99.       216.        57.      ]\n",
            "   [106.       222.        61.      ]\n",
            "   ...\n",
            "   [ 60.       107.        15.      ]\n",
            "   [ 58.       100.        18.      ]\n",
            "   [ 57.        95.        18.      ]]\n",
            "\n",
            "  ...\n",
            "\n",
            "  [[149.       232.       128.      ]\n",
            "   [150.       233.       127.      ]\n",
            "   [152.       235.       129.      ]\n",
            "   ...\n",
            "   [ 63.       140.         8.      ]\n",
            "   [ 61.       142.        11.      ]\n",
            "   [ 57.       140.        10.      ]]\n",
            "\n",
            "  [[151.       234.       128.      ]\n",
            "   [153.       236.       128.      ]\n",
            "   [155.       238.       130.      ]\n",
            "   ...\n",
            "   [ 62.       139.         7.      ]\n",
            "   [ 59.       140.         9.      ]\n",
            "   [ 53.       139.         6.      ]]\n",
            "\n",
            "  [[154.       237.       129.      ]\n",
            "   [156.       239.       131.      ]\n",
            "   [156.       240.       129.      ]\n",
            "   ...\n",
            "   [ 63.       141.         6.      ]\n",
            "   [ 60.       141.        10.      ]\n",
            "   [ 53.       139.         6.      ]]]\n",
            "\n",
            "\n",
            " [[[157.31425  163.31425  151.31425 ]\n",
            "   [157.20615  163.20615  151.20615 ]\n",
            "   [152.66965  158.66965  146.66965 ]\n",
            "   ...\n",
            "   [ 68.24965  108.24965   48.249653]\n",
            "   [ 56.80774   94.80774   37.80774 ]\n",
            "   [ 58.035835  96.035835  39.035835]]\n",
            "\n",
            "  [[161.83403  167.83403  157.83403 ]\n",
            "   [159.05595  165.05595  155.05595 ]\n",
            "   [159.32143  165.32143  153.32143 ]\n",
            "   ...\n",
            "   [ 66.54872  106.54872   46.548725]\n",
            "   [ 59.        97.        40.      ]\n",
            "   [ 51.151436  89.151436  30.151436]]\n",
            "\n",
            "  [[166.73183  172.73183  162.73183 ]\n",
            "   [165.56442  171.56442  161.56442 ]\n",
            "   [164.31537  170.31537  158.31537 ]\n",
            "   ...\n",
            "   [ 71.129326 111.129326  49.129326]\n",
            "   [ 59.787205  97.78721   38.787205]\n",
            "   [ 55.28445   93.28445   34.28445 ]]\n",
            "\n",
            "  ...\n",
            "\n",
            "  [[167.26695  168.26695  163.26695 ]\n",
            "   [168.58182  169.58182  164.58182 ]\n",
            "   [167.23967  168.23967  163.23967 ]\n",
            "   ...\n",
            "   [110.3916   141.3916    73.3916  ]\n",
            "   [ 94.308556 125.308556  57.30855 ]\n",
            "   [ 85.99937  117.99937   44.999363]]\n",
            "\n",
            "  [[169.01462  170.01462  165.01462 ]\n",
            "   [167.51349  168.51349  163.51349 ]\n",
            "   [171.57114  172.57114  167.57114 ]\n",
            "   ...\n",
            "   [107.14766  140.14766   71.14766 ]\n",
            "   [ 96.76758  129.08887   61.44629 ]\n",
            "   [ 88.125    121.125     50.125   ]]\n",
            "\n",
            "  [[166.12675  167.12675  162.12675 ]\n",
            "   [172.79065  173.79065  168.79065 ]\n",
            "   [168.81717  169.81717  164.81717 ]\n",
            "   ...\n",
            "   [108.13767  141.13766   72.13767 ]\n",
            "   [ 96.82061  128.8206    63.820606]\n",
            "   [ 90.59694  123.59694   52.596935]]]], shape=(32, 224, 224, 3), dtype=float32) tf.Tensor(\n",
            "[[0. 1. 0.]\n",
            " [0. 1. 0.]\n",
            " [0. 0. 1.]\n",
            " [1. 0. 0.]\n",
            " [0. 0. 1.]\n",
            " [0. 0. 1.]\n",
            " [0. 0. 1.]\n",
            " [0. 0. 1.]\n",
            " [0. 1. 0.]\n",
            " [0. 1. 0.]\n",
            " [0. 1. 0.]\n",
            " [0. 0. 1.]\n",
            " [1. 0. 0.]\n",
            " [0. 1. 0.]\n",
            " [1. 0. 0.]\n",
            " [1. 0. 0.]\n",
            " [0. 0. 1.]\n",
            " [0. 0. 1.]\n",
            " [0. 0. 1.]\n",
            " [0. 1. 0.]\n",
            " [1. 0. 0.]\n",
            " [0. 0. 1.]\n",
            " [0. 0. 1.]\n",
            " [0. 0. 1.]\n",
            " [0. 1. 0.]\n",
            " [1. 0. 0.]\n",
            " [0. 0. 1.]\n",
            " [1. 0. 0.]\n",
            " [1. 0. 0.]\n",
            " [1. 0. 0.]\n",
            " [0. 0. 1.]\n",
            " [1. 0. 0.]], shape=(32, 3), dtype=float32)\n"
          ]
        },
        {
          "output_type": "execute_result",
          "data": {
            "text/plain": [
              "<_TakeDataset element_spec=(TensorSpec(shape=(None, 224, 224, 3), dtype=tf.float32, name=None), TensorSpec(shape=(None, 3), dtype=tf.float32, name=None))>"
            ]
          },
          "metadata": {},
          "execution_count": 34
        }
      ],
      "source": [
        "import tensorflow as tf\n",
        "IMG_SIZE = (224,224)\n",
        "train_data_leaves = tf.keras.preprocessing.image_dataset_from_directory(directory =  train_dir,\n",
        "                                                                            image_size = IMG_SIZE,\n",
        "                                                                            label_mode = \"categorical\",\n",
        "                                                                            batch_size = 32)\n",
        "test_data_leaves = tf.keras.preprocessing.image_dataset_from_directory(directory=test_dir,\n",
        "                                                                           image_size=IMG_SIZE,\n",
        "                                                                           label_mode=\"categorical\")\n",
        "train_data_leaves\n",
        "train_data_leaves.class_names\n",
        "for images, labels in train_data_leaves.take(1):\n",
        "  print(images, labels)\n",
        "train_data_leaves.take(1)"
      ]
    },
    {
      "cell_type": "code",
      "execution_count": 35,
      "metadata": {
        "id": "qEy9dW1IHMtU",
        "colab": {
          "base_uri": "https://localhost:8080/"
        },
        "outputId": "13d395db-b350-47ed-e1ad-b640d629b698"
      },
      "outputs": [
        {
          "output_type": "stream",
          "name": "stdout",
          "text": [
            "Downloading data from https://storage.googleapis.com/tensorflow/keras-applications/efficientnet_v2/efficientnetv2-b0_notop.h5\n",
            "24274472/24274472 [==============================] - 0s 0us/step\n"
          ]
        }
      ],
      "source": [
        "\n",
        "# 1. Create base model with tf.keras.applications\n",
        "base_model = tf.keras.applications.efficientnet_v2.EfficientNetV2B0(include_top=False)\n",
        "\n",
        "# OLD\n",
        "# base_model = tf.keras.applications.EfficientNetB0(include_top=False)\n",
        "\n",
        "# 2. Freeze the base model (so the pre-learned patterns remain)\n",
        "base_model.trainable = False"
      ]
    },
    {
      "cell_type": "code",
      "source": [
        "\n",
        "def create_tensorboard_callback(dir_name, experiment_name):\n",
        "  \"\"\"\n",
        "  Creates a TensorBoard callback instand to store log files.\n",
        "\n",
        "  Stores log files with the filepath:\n",
        "    \"dir_name/experiment_name/current_datetime/\"\n",
        "\n",
        "  Args:\n",
        "    dir_name: target directory to store TensorBoard log files\n",
        "    experiment_name: name of experiment directory (e.g. efficientnet_model_1)\n",
        "  \"\"\"\n",
        "  log_dir = dir_name + \"/\" + experiment_name + \"/\" + datetime.datetime.now().strftime(\"%Y%m%d-%H%M%S\")\n",
        "  tensorboard_callback = tf.keras.callbacks.TensorBoard(\n",
        "      log_dir=log_dir\n",
        "  )\n",
        "  print(f\"Saving TensorBoard log files to: {log_dir}\")\n",
        "  return tensorboard_callback\n"
      ],
      "metadata": {
        "id": "BYXv89cx2SnO"
      },
      "execution_count": 36,
      "outputs": []
    },
    {
      "cell_type": "code",
      "source": [
        "\n",
        "# 3. Create inputs into the base model\n",
        "inputs = tf.keras.layers.Input(shape=(224, 224, 3), name=\"input_layer\")\n",
        "\n",
        "# 4. If using ResNet50V2, add this to speed up convergence, remove for EfficientNetV2\n",
        "# x = tf.keras.layers.experimental.preprocessing.Rescaling(1./255)(inputs)\n",
        "\n",
        "# 5. Pass the inputs to the base_model (note: using tf.keras.applications, EfficientNetV2 inputs don't have to be normalized)\n",
        "x = base_model(inputs)\n",
        "# Check data shape after passing it to base_model\n",
        "print(f\"Shape after base_model: {x.shape}\")\n",
        "\n",
        "# 6. Average pool the outputs of the base model (aggregate all the most important information, reduce number of computations)\n",
        "x = tf.keras.layers.GlobalAveragePooling2D(name=\"global_average_pooling_layer\")(x)\n",
        "print(f\"After GlobalAveragePooling2D(): {x.shape}\")\n",
        "\n",
        "# 7. Create the output activation layer\n",
        "outputs = tf.keras.layers.Dense(3, activation=\"softmax\", name=\"output_layer\")(x)\n",
        "\n",
        "# 8. Combine the inputs with the outputs into a model\n",
        "model_0 = tf.keras.Model(inputs, outputs)\n",
        "\n",
        "# 9. Compile the model\n",
        "model_0.compile(loss='categorical_crossentropy',\n",
        "              optimizer=tf.keras.optimizers.Adam(),\n",
        "              metrics=[\"accuracy\"])\n",
        "\n",
        "# 10. Fit the model (we use less steps for validation so it's faster)\n",
        "history = model_0.fit(train_data_leaves,\n",
        "                                 epochs=5,\n",
        "                                 steps_per_epoch=len(train_data_leaves),\n",
        "                                 validation_data=train_data_leaves,\n",
        "                                 # Go through less of the validation data so epochs are faster (we want faster experiments!)\n",
        "                                 validation_steps=int(0.25 * len(train_data_leaves)),\n",
        "                                 # Track our model's training logs for visualization later\n",
        "                                 callbacks=[create_tensorboard_callback(\"transfer_learning\", \"10_percent_feature_extract\")])"
      ],
      "metadata": {
        "id": "Ib3QLCh1g2In",
        "colab": {
          "base_uri": "https://localhost:8080/"
        },
        "outputId": "c734b3bb-de94-4e5f-d212-b9e132d7e43e"
      },
      "execution_count": 37,
      "outputs": [
        {
          "output_type": "stream",
          "name": "stdout",
          "text": [
            "Shape after base_model: (None, 7, 7, 1280)\n",
            "After GlobalAveragePooling2D(): (None, 1280)\n",
            "Saving TensorBoard log files to: transfer_learning/10_percent_feature_extract/20240319-175408\n",
            "Epoch 1/5\n",
            "15/15 [==============================] - 47s 2s/step - loss: 0.6177 - accuracy: 0.8174 - val_loss: 0.2372 - val_accuracy: 1.0000\n",
            "Epoch 2/5\n",
            "15/15 [==============================] - 30s 2s/step - loss: 0.1609 - accuracy: 0.9978 - val_loss: 0.0891 - val_accuracy: 1.0000\n",
            "Epoch 3/5\n",
            "15/15 [==============================] - 32s 2s/step - loss: 0.0724 - accuracy: 1.0000 - val_loss: 0.0512 - val_accuracy: 1.0000\n",
            "Epoch 4/5\n",
            "15/15 [==============================] - 30s 2s/step - loss: 0.0454 - accuracy: 1.0000 - val_loss: 0.0333 - val_accuracy: 1.0000\n",
            "Epoch 5/5\n",
            "15/15 [==============================] - 34s 2s/step - loss: 0.0327 - accuracy: 1.0000 - val_loss: 0.0261 - val_accuracy: 1.0000\n"
          ]
        }
      ]
    },
    {
      "cell_type": "code",
      "source": [
        "converter = tf.lite.TFLiteConverter.from_keras_model(model_0)\n",
        "tflite_model = converter.convert()\n",
        "\n",
        "with open(\"model.tflite\", 'wb') as f:\n",
        "  f.write(tflite_model)"
      ],
      "metadata": {
        "id": "0dNXfDLa41sl"
      },
      "execution_count": 39,
      "outputs": []
    },
    {
      "cell_type": "code",
      "source": [
        "model_0.evaluate(test_data_leaves)"
      ],
      "metadata": {
        "id": "kudkNeZ41BlE",
        "colab": {
          "base_uri": "https://localhost:8080/"
        },
        "outputId": "295a29d9-8250-4504-f7c0-aa2e2b8594e5"
      },
      "execution_count": 41,
      "outputs": [
        {
          "output_type": "stream",
          "name": "stdout",
          "text": [
            "3/3 [==============================] - 5s 2s/step - loss: 0.0831 - accuracy: 1.0000\n"
          ]
        },
        {
          "output_type": "execute_result",
          "data": {
            "text/plain": [
              "[0.08309602737426758, 1.0]"
            ]
          },
          "metadata": {},
          "execution_count": 41
        }
      ]
    }
  ],
  "metadata": {
    "colab": {
      "provenance": []
    },
    "kaggle": {
      "accelerator": "none",
      "dataSources": [
        {
          "datasetId": 4625901,
          "sourceId": 7881548,
          "sourceType": "datasetVersion"
        },
        {
          "isSourceIdPinned": true,
          "modelInstanceId": 4603,
          "sourceId": 6120,
          "sourceType": "modelInstanceVersion"
        }
      ],
      "dockerImageVersionId": 30664,
      "isGpuEnabled": false,
      "isInternetEnabled": false,
      "language": "python",
      "sourceType": "notebook"
    },
    "kernelspec": {
      "display_name": "Python 3",
      "language": "python",
      "name": "python3"
    },
    "language_info": {
      "codemirror_mode": {
        "name": "ipython",
        "version": 3
      },
      "file_extension": ".py",
      "mimetype": "text/x-python",
      "name": "python",
      "nbconvert_exporter": "python",
      "pygments_lexer": "ipython3",
      "version": "3.10.13"
    }
  },
  "nbformat": 4,
  "nbformat_minor": 0
}